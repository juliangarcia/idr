{
 "cells": [
  {
   "cell_type": "markdown",
   "metadata": {},
   "source": [
    "# Experiment: Average Beliefs Across Mutation Methods\n",
    "\n",
    "Graphs average belief of each group using performance dependent/independent mutation methods.\n",
    "\n",
    "Tests model on Prisoner's Dilemma and Stag Hunt with varying perturbation probability.\n",
    "\n",
    "Reports graphs of average beliefs of each group."
   ]
  },
  {
   "cell_type": "code",
   "execution_count": null,
   "metadata": {},
   "outputs": [],
   "source": [
    "cd .."
   ]
  },
  {
   "cell_type": "code",
   "execution_count": null,
   "metadata": {},
   "outputs": [],
   "source": [
    "from src.python import model;\n",
    "import numpy as np;\n",
    "import matplotlib.pyplot as plt;"
   ]
  },
  {
   "cell_type": "code",
   "execution_count": null,
   "metadata": {},
   "outputs": [],
   "source": [
    "def experiment(number_of_agents, Rf, Sf, Tf, Pf, Ro, So, To, Po, number_of_steps, rounds_per_step, selection_intensity, perturbation_probability, perturbation_scale, data_recording, game_name, performance_independent=True):\n",
    "    a_model = model.Model(number_of_agents, Rf, Sf, Tf, Pf, Ro, So, To, Po)\n",
    "    a_model.run_simulation(number_of_steps, rounds_per_step, selection_intensity, perturbation_probability, perturbation_scale, data_recording, performance_independent)\n",
    "    \n",
    "    y1 = np.array(a_model.avg_ingroup_0_time_series)\n",
    "    y2 = np.array(a_model.avg_outgroup_0_time_series)\n",
    "    plt.plot(y1, label=\"Ingroup\")\n",
    "    plt.plot(y2, label=\"Outgroup\")\n",
    "    plt.legend()\n",
    "    title = \"{}: Average Belief of 0-group with Performance Independent, {} Perturbation Probability\".format(game_name, perturbation_probability) if performance_independent else \"{}: Average Belief of 0-group with Performance Dependent\".format(game_name)\n",
    "    plt.title(title)\n",
    "    plt.show()\n",
    "    \n",
    "    y1 = np.array(a_model.avg_ingroup_1_time_series)\n",
    "    y2 = np.array(a_model.avg_outgroup_1_time_series)\n",
    "    plt.plot(y1, label=\"Ingroup\")\n",
    "    plt.plot(y2, label=\"Outgroup\")\n",
    "    plt.legend()\n",
    "    title = \"{}: Average Belief of 1-group with Performance Independent, {} Perturbation Probability\".format(game_name, perturbation_probability) if performance_independent else \"{}: Average Belief of 1-group with Performance Dependent\".format(game_name)\n",
    "    plt.title(title)\n",
    "    plt.show()"
   ]
  },
  {
   "cell_type": "code",
   "execution_count": null,
   "metadata": {},
   "outputs": [],
   "source": [
    "# Parameters\n",
    "\n",
    "number_of_agents = 10;\n",
    "number_of_steps = 1000;\n",
    "rounds_per_step = 100;\n",
    "selection_intensity = 0.1;\n",
    "perturbation_scale = 0.05;\n",
    "\n",
    "# PD =  [-1, -3, 0, -2]\n",
    "# SH = [4, 1, 3, 2]"
   ]
  },
  {
   "cell_type": "code",
   "execution_count": null,
   "metadata": {},
   "outputs": [],
   "source": [
    "# Test Performance Independent with 0.1 perturbation probability\n",
    "perturbation_probability = 0.1\n",
    "\n",
    "# PD game\n",
    "experiment(number_of_agents, -1, -3, 0, -2, -1, -3, 0, -2, number_of_steps, rounds_per_step, selection_intensity, perturbation_probability, perturbation_scale, False, \"PD\")\n",
    "\n",
    "# SH game\n",
    "for _ in range(5):\n",
    "    experiment(number_of_agents, 4, 1, 3, 2, 4, 1, 3, 2, number_of_steps, rounds_per_step, selection_intensity, perturbation_probability, perturbation_scale, False, \"SH\")"
   ]
  },
  {
   "cell_type": "code",
   "execution_count": null,
   "metadata": {},
   "outputs": [],
   "source": [
    "# Test Performance Independent with 0.5 perturbation probability\n",
    "perturbation_probability = 0.5\n",
    "\n",
    "# PD game\n",
    "experiment(number_of_agents, -1, -3, 0, -2, -1, -3, 0, -2, number_of_steps, rounds_per_step, selection_intensity, perturbation_probability, perturbation_scale, False, \"PD\")\n",
    "\n",
    "# SH game\n",
    "for _ in range(5):\n",
    "    experiment(number_of_agents, 4, 1, 3, 2, 4, 1, 3, 2, number_of_steps, rounds_per_step, selection_intensity, perturbation_probability, perturbation_scale, False, \"SH\")"
   ]
  },
  {
   "cell_type": "code",
   "execution_count": null,
   "metadata": {},
   "outputs": [],
   "source": [
    "# Test Performance Independent with 0.01 perturbation probability\n",
    "perturbation_probability = 0.01\n",
    "\n",
    "# PD game\n",
    "experiment(number_of_agents, -1, -3, 0, -2, -1, -3, 0, -2, number_of_steps, rounds_per_step, selection_intensity, perturbation_probability, perturbation_scale, False, \"PD\")\n",
    "\n",
    "# SH game\n",
    "for _ in range(5):\n",
    "    experiment(number_of_agents, 4, 1, 3, 2, 4, 1, 3, 2, number_of_steps, rounds_per_step, selection_intensity, perturbation_probability, perturbation_scale, False, \"SH\")"
   ]
  },
  {
   "cell_type": "code",
   "execution_count": null,
   "metadata": {},
   "outputs": [],
   "source": [
    "# Test Performance Dependent\n",
    "\n",
    "# PD game\n",
    "experiment(number_of_agents, -1, -3, 0, -2, -1, -3, 0, -2, number_of_steps, rounds_per_step, selection_intensity, perturbation_probability, perturbation_scale, False, \"PD\", False)\n",
    "\n",
    "# SH game\n",
    "for _ in range(5):\n",
    "    experiment(number_of_agents, 4, 1, 3, 2, 4, 1, 3, 2, number_of_steps, rounds_per_step, selection_intensity, perturbation_probability, perturbation_scale, False, \"SH\", False)"
   ]
  }
 ],
 "metadata": {
  "kernelspec": {
   "display_name": "Python 3",
   "language": "python",
   "name": "python3"
  },
  "language_info": {
   "codemirror_mode": {
    "name": "ipython",
    "version": 3
   },
   "file_extension": ".py",
   "mimetype": "text/x-python",
   "name": "python",
   "nbconvert_exporter": "python",
   "pygments_lexer": "ipython3",
   "version": "3.7.4"
  }
 },
 "nbformat": 4,
 "nbformat_minor": 4
}
