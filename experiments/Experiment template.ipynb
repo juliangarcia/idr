{
 "cells": [
  {
   "cell_type": "code",
   "execution_count": null,
   "metadata": {},
   "outputs": [],
   "source": [
    "import model\n",
    "import numpy as np;\n",
    "import matplotlib.pyplot as plt;"
   ]
  },
  {
   "cell_type": "code",
   "execution_count": null,
   "metadata": {},
   "outputs": [],
   "source": [
    "\n",
    "def mc_experiment(monte_carlo_steps, number_of_agents, Rf, Sf, Tf, Pf, Ro, So, To, Po, tag0_in, tag0_out, tag1_in, tag1_out, number_of_steps, rounds_per_step, selection_intensity, perturbation_probability, perturbation_scale, data_recording, game_name, performance_independent):\n",
    "    \n",
    "    payoffs = np.zeros(number_of_steps, dtype=float)\n",
    "    payoffs_tag0 = np.zeros(number_of_steps, dtype=float) \n",
    "    payoffs_tag1 =np.zeros(number_of_steps, dtype=float)\n",
    "    ingroup = np.zeros(number_of_steps, dtype=float)\n",
    "    ingroup_tag0 = np.zeros(number_of_steps, dtype=float)\n",
    "    ingroup_tag1 = np.zeros(number_of_steps, dtype=float)\n",
    "    outgroup = np.zeros(number_of_steps, dtype=float)\n",
    "    outgroup_tag0 = np.zeros(number_of_steps, dtype=float)\n",
    "    outgroup_tag1 = np.zeros(number_of_steps, dtype=float)\n",
    "    \n",
    "    a_model = model.Model(number_of_agents, Rf, Sf, Tf, Pf, Ro, So, To, Po, tag0_in, tag0_out, tag1_in, tag1_out)\n",
    "    for m in range(monte_carlo_steps):\n",
    "        returned_array = a_model.run_monte_carlo_simulation(number_of_steps, rounds_per_step, selection_intensity, perturbation_probability, perturbation_scale, data_recording, performance_independent)\n",
    "        \n",
    "        payoffs += returned_array[0]\n",
    "        payoffs_tag0 += returned_array[1]\n",
    "        payoffs_tag1 += returned_array[2]\n",
    "        ingroup += returned_array[3]\n",
    "        ingroup_tag0 += returned_array[4]\n",
    "        ingroup_tag1 += returned_array[5]\n",
    "        outngroup += returned_array[6]\n",
    "        outgroup_tag0 += returned_array[7]\n",
    "        outgroup_tag1 += returned_array[8]\n",
    "    \n",
    "    payoffs = payoffs/ monte_carlo_steps\n",
    "    payoffs_tag0 = payoffs_tag0/monte_carlo_steps\n",
    "    payoffs_tag1 = payoffs_tag1/ monte_carlo_steps\n",
    "    ingroup = ingroup/ monte_carlo_steps\n",
    "    ingroup_tag0 = ingroup_tag0/ monte_carlo_steps\n",
    "    ingroup_tag1 = ingroup_tag1/ monte_carlo_steps\n",
    "    outgroup = outgroup/ monte_carlo_steps\n",
    "    outgroup_tag0 = outgroup_tag0/monte_carlo_steps\n",
    "    outgroup_tag1 = outgroup_tag1/monte_carlo_steps\n",
    "    \n",
    "   \n",
    "        \n",
    "    y1 = np.array(a_model.avg_ingroup_0_time_series)\n",
    "    y2 = np.array(a_model.avg_ingroup_1_time_series)\n",
    "    y3 = np.array(a_model.avg_outgroup_0_time_series)\n",
    "    y4 = np.array(a_model.avg_outgroup_1_time_series)\n",
    "    plt.plot(y1, label=\"ingroup 0\")\n",
    "    plt.plot(y2, label=\"ingroup 1\")\n",
    "    plt.plot(y3, label=\"outgroup 0\")\n",
    "    plt.plot(y4, label=\"outgroup 1\")\n",
    "    plt.legend()\n",
    "    plt.title(\"{}: Average Belief at Time Step\".format(game_name) )\n",
    "    plt.show()"
   ]
  }
 ],
 "metadata": {
  "kernelspec": {
   "display_name": "Python 3.8",
   "language": "python",
   "name": "py38"
  },
  "language_info": {
   "codemirror_mode": {
    "name": "ipython",
    "version": 3
   },
   "file_extension": ".py",
   "mimetype": "text/x-python",
   "name": "python",
   "nbconvert_exporter": "python",
   "pygments_lexer": "ipython3",
   "version": "3.8.1"
  }
 },
 "nbformat": 4,
 "nbformat_minor": 4
}
